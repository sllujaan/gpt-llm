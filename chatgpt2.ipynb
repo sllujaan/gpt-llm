{
 "cells": [
  {
   "cell_type": "code",
   "execution_count": 1,
   "metadata": {},
   "outputs": [],
   "source": [
    "from torch import torch, nn\n",
    "from torch.functional import F\n",
    "from collections import defaultdict"
   ]
  },
  {
   "cell_type": "code",
   "execution_count": 2,
   "metadata": {},
   "outputs": [
    {
     "data": {
      "text/plain": [
       "'cuda'"
      ]
     },
     "execution_count": 2,
     "metadata": {},
     "output_type": "execute_result"
    }
   ],
   "source": [
    "#hyperparameters\n",
    "d_model = 32\n",
    "n_heads = 4\n",
    "n_layers = 2\n",
    "batch_size = 20\n",
    "block_size = 100\n",
    "max_iters = 1000\n",
    "eval_iters = 50\n",
    "dropout = 0.1\n",
    "lr = 1e-3\n",
    "device = 'cuda' if torch.cuda.is_available() else 'cpu'\n",
    "device"
   ]
  },
  {
   "cell_type": "code",
   "execution_count": 3,
   "metadata": {},
   "outputs": [
    {
     "data": {
      "text/plain": [
       "'First Citizen:\\nBefore we proceed any further, hear me speak.\\n\\nAll:\\nSpeak, speak.\\n\\nFirst Citizen:\\nYou'"
      ]
     },
     "execution_count": 3,
     "metadata": {},
     "output_type": "execute_result"
    }
   ],
   "source": [
    "with open('input.txt', encoding='UTF-8') as f:\n",
    "    text = f.read()\n",
    "\n",
    "text[:100]"
   ]
  },
  {
   "cell_type": "code",
   "execution_count": 4,
   "metadata": {},
   "outputs": [
    {
     "data": {
      "text/plain": [
       "1115394"
      ]
     },
     "execution_count": 4,
     "metadata": {},
     "output_type": "execute_result"
    }
   ],
   "source": [
    "len(text)"
   ]
  },
  {
   "cell_type": "code",
   "execution_count": 5,
   "metadata": {},
   "outputs": [],
   "source": [
    "text = text[:20000]"
   ]
  },
  {
   "cell_type": "code",
   "execution_count": 6,
   "metadata": {},
   "outputs": [
    {
     "name": "stdout",
     "output_type": "stream",
     "text": [
      "\n",
      " !',-.:;?ABCDEFGHIJLMNOPRSTUVWYabcdefghijklmnopqrstuvwxyz\n",
      "58\n"
     ]
    }
   ],
   "source": [
    "chars = sorted(list(set(text)))\n",
    "vocab_size = len(chars)\n",
    "stoi = {c:i for i, c in enumerate(chars)}\n",
    "itos = {i:c for i, c in enumerate(chars)}\n",
    "encode = lambda s: [stoi[c] for c in list(s)]\n",
    "decode = lambda l: \"\".join([itos[i] for i in l])\n",
    "print(''.join(chars))\n",
    "print(vocab_size)"
   ]
  },
  {
   "cell_type": "code",
   "execution_count": 7,
   "metadata": {},
   "outputs": [],
   "source": [
    "data = torch.tensor(encode(text), dtype=torch.long)\n",
    "n = int(len(data) * 0.9)\n",
    "train_data = data[:n]\n",
    "val_data = data[n:]"
   ]
  },
  {
   "cell_type": "code",
   "execution_count": 8,
   "metadata": {},
   "outputs": [],
   "source": [
    "def get_batch(split):\n",
    "    assert split in ['train', 'val'], \"Invalid split\"\n",
    "    _data = train_data if split == 'train' else val_data\n",
    "    idxs = torch.randint(len(_data)-(block_size+1), (batch_size,))\n",
    "    x = torch.stack([_data[i:i+block_size] for i in idxs]).to(device)\n",
    "    y = torch.stack([_data[i+1:i+block_size+1] for i in idxs]).to(device)\n",
    "    return x, y\n",
    "\n",
    "\n",
    "# get_batch('train')"
   ]
  },
  {
   "cell_type": "code",
   "execution_count": 9,
   "metadata": {},
   "outputs": [
    {
     "name": "stdout",
     "output_type": "stream",
     "text": [
      "Model Parameters: 34554\n"
     ]
    }
   ],
   "source": [
    "class Embedding(nn.Module):\n",
    "    def __init__(self):\n",
    "        super().__init__()\n",
    "        self.token_embedding = nn.Embedding(vocab_size, d_model)\n",
    "        self.pos_embeddding = nn.Embedding(max(block_size, vocab_size), d_model)\n",
    "    \n",
    "    def forward(self, x):\n",
    "        tok_emb = self.token_embedding(x)\n",
    "        pos_emb = tok_emb + self.pos_embeddding(torch.arange(x.size(-1), device=device))\n",
    "        return pos_emb\n",
    "\n",
    "class SelfAttension(nn.Module):\n",
    "    def __init__(self):\n",
    "        super().__init__()\n",
    "        assert (d_model % n_heads) == 0, \"n_heads must be a valid modulo of the d_model\"\n",
    "        head_size = d_model // n_heads\n",
    "        self.qkv = nn.Linear(d_model, head_size*3)\n",
    "        self.dropout = nn.Dropout(dropout)\n",
    "\n",
    "    def forward(self, x):\n",
    "        x = self.qkv(x)\n",
    "        q, k, v = x.chunk(3, dim=-1)\n",
    "        wei = (q @ k.transpose(-2, -1)) / (d_model ** -0.5)\n",
    "        wei = torch.softmax(wei.masked_fill(wei.tril() == 0, float('-inf')), dim=-1)\n",
    "        wei = self.dropout(wei)\n",
    "        x = wei @ v\n",
    "        return x\n",
    "\n",
    "class MulitHeadAttension(nn.Module):\n",
    "    def __init__(self):\n",
    "        super().__init__()\n",
    "        self.attensions = nn.ModuleList([SelfAttension() for _ in range(n_heads)])\n",
    "        self.dropout = nn.Dropout(dropout)\n",
    "    \n",
    "    def forward(self, x):\n",
    "        x = torch.cat([att(x) for att in self.attensions], dim=-1)\n",
    "        return self.dropout(x)\n",
    "\n",
    "class FeedForward(nn.Module):\n",
    "    def __init__(self):\n",
    "        super().__init__()\n",
    "        self.net = nn.Sequential(\n",
    "            nn.Linear(d_model, d_model * 5),\n",
    "            nn.Linear(d_model * 5, d_model),\n",
    "            nn.Dropout(dropout)\n",
    "        )\n",
    "    \n",
    "    def forward(self, x):\n",
    "        return self.net(x)\n",
    "\n",
    "class Block(nn.Module):\n",
    "    def __init__(self):\n",
    "        super().__init__()\n",
    "        self.attension = MulitHeadAttension()\n",
    "        self.ln1 = nn.LayerNorm(d_model)\n",
    "        self.ffwd = FeedForward()\n",
    "        self.ln2 = nn.LayerNorm(d_model)\n",
    "        self.dropout = nn.Dropout(dropout)\n",
    "        self.ln3 = nn.LayerNorm(d_model)\n",
    "\n",
    "    def forward(self, x):\n",
    "        x = x + self.ln1(self.attension(x))\n",
    "        x = x + self.ln2(self.ffwd(x))\n",
    "        return self.dropout(self.ln3(x))\n",
    "\n",
    "class Transformer(nn.Module):\n",
    "    def __init__(self):\n",
    "        super().__init__()\n",
    "        self.embeddings = Embedding()\n",
    "        self.blocks = nn.Sequential(*[Block() for _ in range(n_layers)])\n",
    "        self.cls = nn.Linear(d_model, vocab_size)\n",
    "    \n",
    "    def forward(self, x, y=None):\n",
    "        embed = self.embeddings(x)\n",
    "        x = self.blocks(embed)\n",
    "        logits = self.cls(x)\n",
    "\n",
    "        loss = None\n",
    "        if y is not None:\n",
    "            B, T, C = logits.shape\n",
    "            logits = logits.view(B*T, C)\n",
    "            target = y.view(B*T)\n",
    "            loss = F.cross_entropy(logits, target)\n",
    "        \n",
    "        return logits, loss\n",
    "    \n",
    "    \n",
    "    def generate(self, x, max_tokens):\n",
    "        for _ in range(max_tokens):\n",
    "            x_cropped = x[:, -block_size:]\n",
    "            logits, loss = model(x_cropped)\n",
    "            logits = logits[:, -1, :]\n",
    "            probs = logits.softmax(dim=-1)\n",
    "            pred = torch.multinomial(probs, 1)\n",
    "            x = torch.cat([x, pred], dim=-1)\n",
    "        return x\n",
    "\n",
    "\n",
    "\n",
    "model = Transformer().to(device=device)\n",
    "optimizer = torch.optim.Adam(model.parameters(), lr=lr)\n",
    "print(f\"Model Parameters: {sum([p.numel() for p in model.parameters()])}\")\n",
    "\n",
    "\n",
    "@torch.no_grad()\n",
    "def estimate_loss():\n",
    "    losses = defaultdict(list)\n",
    "    model.eval()\n",
    "    for split in ['train', 'val']:\n",
    "        for _ in range(eval_iters):\n",
    "            _, loss = model(*get_batch(split))\n",
    "            losses[split].append(loss.item())\n",
    "        losses[split] = torch.tensor(losses[split]).mean(dim=0)\n",
    "    model.train()\n",
    "    return losses\n",
    "\n",
    "\n",
    "# #training\n",
    "# for iter in range(max_iters):\n",
    "\n",
    "#     if (iter % eval_iters) == 0:\n",
    "#         losses = estimate_loss()\n",
    "#         print(f\"train_loss: {losses['train']:.4f}, val_loss: {losses['val']:.4f}\")\n",
    "\n",
    "#     optimizer.zero_grad()\n",
    "#     logits, loss = model(*get_batch('train'))\n",
    "#     loss.backward()\n",
    "#     optimizer.step()\n",
    "\n",
    "\n",
    "# x = torch.tensor([encode('the')], dtype=torch.long, device=device)\n",
    "# print(decode(model.generate(x, 10).tolist()[0]))"
   ]
  },
  {
   "cell_type": "code",
   "execution_count": 10,
   "metadata": {},
   "outputs": [
    {
     "name": "stdout",
     "output_type": "stream",
     "text": [
      "train_loss: 4.2556, val_loss: 4.2319\n",
      "train_loss: 3.1634, val_loss: 3.2891\n",
      "train_loss: 2.9870, val_loss: 3.1360\n",
      "train_loss: 2.8811, val_loss: 3.0376\n",
      "train_loss: 2.7926, val_loss: 2.9378\n",
      "train_loss: 2.7413, val_loss: 2.8776\n",
      "train_loss: 2.6932, val_loss: 2.8126\n",
      "train_loss: 2.6582, val_loss: 2.7679\n",
      "train_loss: 2.6349, val_loss: 2.7371\n",
      "train_loss: 2.6087, val_loss: 2.7097\n",
      "train_loss: 2.5851, val_loss: 2.6740\n",
      "train_loss: 2.5684, val_loss: 2.6440\n",
      "train_loss: 2.5522, val_loss: 2.6286\n",
      "train_loss: 2.5466, val_loss: 2.6165\n",
      "train_loss: 2.5394, val_loss: 2.6152\n",
      "train_loss: 2.5205, val_loss: 2.5993\n",
      "train_loss: 2.5178, val_loss: 2.5839\n",
      "train_loss: 2.5108, val_loss: 2.5718\n",
      "train_loss: 2.4994, val_loss: 2.5636\n",
      "train_loss: 2.4946, val_loss: 2.5610\n",
      "the ast ssorr\n"
     ]
    }
   ],
   "source": [
    "#training\n",
    "for iter in range(max_iters):\n",
    "\n",
    "    if (iter % eval_iters) == 0:\n",
    "        losses = estimate_loss()\n",
    "        print(f\"train_loss: {losses['train']:.4f}, val_loss: {losses['val']:.4f}\")\n",
    "\n",
    "    optimizer.zero_grad()\n",
    "    logits, loss = model(*get_batch('train'))\n",
    "    loss.backward()\n",
    "    optimizer.step()\n",
    "\n",
    "\n",
    "x = torch.tensor([encode('the')], dtype=torch.long, device=device)\n",
    "print(decode(model.generate(x, 10).tolist()[0]))"
   ]
  },
  {
   "cell_type": "code",
   "execution_count": 11,
   "metadata": {},
   "outputs": [
    {
     "data": {
      "text/plain": [
       "'First Citizen:\\nBefore we proceed any further, hear me speak.\\n\\nAll:\\nSpeak, speak.\\n\\nFirst Citizen:\\nYou'"
      ]
     },
     "execution_count": 11,
     "metadata": {},
     "output_type": "execute_result"
    }
   ],
   "source": [
    "text[:100]"
   ]
  },
  {
   "cell_type": "code",
   "execution_count": 12,
   "metadata": {},
   "outputs": [
    {
     "name": "stdout",
     "output_type": "stream",
     "text": [
      "YasonIUS:\n",
      "Tushere- pcar w\n",
      "Momonalyizs four o,be herosidour them avir frcssengan goud sthee be y tilin\n"
     ]
    }
   ],
   "source": [
    "x = torch.tensor([encode('Y')], dtype=torch.long, device=device)\n",
    "print(decode(model.generate(x, 100).tolist()[0]))"
   ]
  }
 ],
 "metadata": {
  "kernelspec": {
   "display_name": "Python 3",
   "language": "python",
   "name": "python3"
  },
  "language_info": {
   "codemirror_mode": {
    "name": "ipython",
    "version": 3
   },
   "file_extension": ".py",
   "mimetype": "text/x-python",
   "name": "python",
   "nbconvert_exporter": "python",
   "pygments_lexer": "ipython3",
   "version": "3.11.4"
  }
 },
 "nbformat": 4,
 "nbformat_minor": 2
}
